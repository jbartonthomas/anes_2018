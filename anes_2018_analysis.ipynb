{
 "cells": [
  {
   "cell_type": "markdown",
   "metadata": {},
   "source": [
    "# Welcome to your Quantitative Social Sciences Analysis Toolkit!\n",
    "\n",
    "Use this notebook to perform the following operations:\n",
    "    - load data\n",
    "    - make histograms of variables of interest\n",
    "    - calculate group differences on variables of interest\n",
    "    - calculate correlations between variables of interest"
   ]
  },
  {
   "cell_type": "code",
   "execution_count": 1,
   "metadata": {},
   "outputs": [],
   "source": [
    "import pandas as pd\n",
    "import logging\n",
    "\n",
    "df = pd.read_csv('data/anes_pilot_2018.csv', low_memory=False)"
   ]
  },
  {
   "cell_type": "code",
   "execution_count": 97,
   "metadata": {},
   "outputs": [
    {
     "data": {
      "application/vnd.jupyter.widget-view+json": {
       "model_id": "10aad5cd5537408e9b18f58975ba085e",
       "version_major": 2,
       "version_minor": 0
      },
      "text/plain": [
       "interactive(children=(Dropdown(description='x', index=284, options=('version', 'caseid', 'weight', 'weight_sps…"
      ]
     },
     "metadata": {},
     "output_type": "display_data"
    }
   ],
   "source": [
    "%matplotlib inline \n",
    "\n",
    "from ipywidgets import interact, interactive, fixed, interact_manual\n",
    "import ipywidgets as widgets\n",
    "from matplotlib import pyplot as plt\n",
    "\n",
    "@interact(x=df.columns)\n",
    "def categorical_plot(x='gender'):\n",
    "    plt.figure(figsize=(10,5))\n",
    "    ax=plt.gca()\n",
    "    return df.groupby(x).size().plot(ax=ax, kind='bar')\n",
    "\n",
    "pass"
   ]
  },
  {
   "cell_type": "code",
   "execution_count": 58,
   "metadata": {},
   "outputs": [
    {
     "data": {
      "application/vnd.jupyter.widget-view+json": {
       "model_id": "2ca8f08705814b1c922eea5f0e3ce1af",
       "version_major": 2,
       "version_minor": 0
      },
      "text/plain": [
       "interactive(children=(Dropdown(description='dependent', index=141, options=('acaapprove', 'acaapprove_page_tim…"
      ]
     },
     "metadata": {},
     "output_type": "display_data"
    }
   ],
   "source": [
    "%matplotlib inline \n",
    "\n",
    "from ipywidgets import interact, interactive, fixed, interact_manual\n",
    "import ipywidgets as widgets\n",
    "from matplotlib import pyplot as plt\n",
    "\n",
    "def cast(s):\n",
    "    try:\n",
    "        return float(s)\n",
    "    except:\n",
    "        return None\n",
    "\n",
    "@interact(dependent=df.columns.sort_values(), independent=df.columns.sort_values())\n",
    "def comparison_plot(dependent='ftblack', independent='ftantifa', bins=list(range(10,100,5))):\n",
    "    plt.figure(figsize=(10,5))\n",
    "    ax = plt.gca()\n",
    "    \n",
    "    msg = \"nrows: {}; nrows after:{}\".format(str(len(df[dependent])),  str(len(df[dependent].dropna())))\n",
    "    logging.warning(msg)\n",
    "\n",
    "    dff = df.copy()\n",
    "    dff = dff.dropna(subset=[dependent, independent])\n",
    "    \n",
    "    if len(dff[independent].unique()) > 15:\n",
    "        plt.scatter(dff[independent], dff[dependent])\n",
    "        return ax\n",
    "    \n",
    "    try:\n",
    "        dff[dependent] = dff[dependent].apply(cast)\n",
    "        dff[independent] = dff[independent].apply(cast)\n",
    "        if dff[dependent].mean() < 900:\n",
    "            dff = dff[dff[dependent]<900]\n",
    "        dff.groupby(independent)[dependent].plot(ax=ax, kind='hist', alpha=.33, bins=bins)\n",
    "        \n",
    "    except Exception as e:\n",
    "        logging.warn(e)\n",
    "        dff.groupby(independent)[dependent].plot(ax=ax, kind='hist', alpha=.33, bins=bins)\n",
    "        \n",
    "    ax.legend()\n",
    "    return ax\n"
   ]
  },
  {
   "cell_type": "code",
   "execution_count": 62,
   "metadata": {},
   "outputs": [
    {
     "data": {
      "application/vnd.jupyter.widget-view+json": {
       "model_id": "ca6f35decf624fc986bb36b6b047063f",
       "version_major": 2,
       "version_minor": 0
      },
      "text/plain": [
       "interactive(children=(Dropdown(description='dependent', index=20, options=('acaapprove', 'acaapprove_page_timi…"
      ]
     },
     "metadata": {},
     "output_type": "display_data"
    }
   ],
   "source": [
    "import pandas as pd\n",
    "import statsmodels.api as sm\n",
    "from statsmodels.formula.api import ols\n",
    "\n",
    "\n",
    "def cast(s):\n",
    "    try:\n",
    "        return int(s)\n",
    "    except:\n",
    "        return None\n",
    "\n",
    "\n",
    "@interact(dependent=df.columns.sort_values(), independent=df.columns.sort_values())\n",
    "def comparison_plot(dependent='birthyr', independent='gender'):\n",
    "    \n",
    "    \n",
    "    msg = \"nrows: {}; nrows after:{}\".format(str(len(df[dependent])),  str(len(df[dependent].dropna())))\n",
    "    logging.warning(msg)\n",
    "\n",
    "    dff = df.copy()\n",
    "    dff = dff.dropna(subset=[dependent, independent])\n",
    "    \n",
    "    try:\n",
    "        dff[dependent] = dff[dependent].apply(cast)\n",
    "        dff[independent] = dff[independent].apply(cast)\n",
    "        \n",
    "        if dff[dependent].mean() <900:\n",
    "            dff = dff[dff[dependent]<900]\n",
    "            \n",
    "        results = sm.OLS(dff[dependent], dff[independent], hasconst=False).fit()\n",
    "        \n",
    "        if len(dff[independent].unique()) < 10:\n",
    "            results = ols('{} ~ C({})'.format(dependent, independent), data=dff).fit()\n",
    "        else:\n",
    "            results = ols('{} ~ {}'.format(dependent, independent), data=dff).fit()\n",
    "        \n",
    "        print(results.summary())\n",
    "        return pd.crosstab(df[independent], df[dependent])\n",
    "    \n",
    "    except Exception as e:\n",
    "        logging.error(e)\n"
   ]
  }
 ],
 "metadata": {
  "kernelspec": {
   "display_name": "Python 3",
   "language": "python",
   "name": "python3"
  },
  "language_info": {
   "codemirror_mode": {
    "name": "ipython",
    "version": 3
   },
   "file_extension": ".py",
   "mimetype": "text/x-python",
   "name": "python",
   "nbconvert_exporter": "python",
   "pygments_lexer": "ipython3",
   "version": "3.7.2"
  }
 },
 "nbformat": 4,
 "nbformat_minor": 2
}
