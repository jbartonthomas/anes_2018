{
 "cells": [
  {
   "cell_type": "markdown",
   "metadata": {},
   "source": [
    "# Welcome to your Quantitative Social Sciences Analysis Toolkit!\n",
    "\n",
    "Use this notebook to perform the following operations:\n",
    "    - load data\n",
    "    - make histograms of variables of interest\n",
    "    - calculate group differences on variables of interest\n",
    "    - calculate correlations between variables of interest"
   ]
  },
  {
   "cell_type": "markdown",
   "metadata": {},
   "source": [
    "## 1. load survey data into the notebook \n",
    "(run this first & run this everytime you close and reopen the notebook)"
   ]
  },
  {
   "cell_type": "code",
   "execution_count": 1,
   "metadata": {},
   "outputs": [],
   "source": [
    "import pandas as pd\n",
    "import logging\n",
    "import statsmodels.api as sm\n",
    "\n",
    "df = pd.read_csv('data/anes_pilot_2018.csv', low_memory=False)\n",
    "\n",
    "pc = sm.PCA(df[['ftasian', 'ftblack', 'fthisp', 'ftmuslim']])\n",
    "df['race_positive'] = pc.scores['comp_0']"
   ]
  },
  {
   "cell_type": "markdown",
   "metadata": {},
   "source": [
    "## 2. generate demographics table\n"
   ]
  },
  {
   "cell_type": "code",
   "execution_count": 2,
   "metadata": {},
   "outputs": [
    {
     "data": {
      "text/html": [
       "<div>\n",
       "<style scoped>\n",
       "    .dataframe tbody tr th:only-of-type {\n",
       "        vertical-align: middle;\n",
       "    }\n",
       "\n",
       "    .dataframe tbody tr th {\n",
       "        vertical-align: top;\n",
       "    }\n",
       "\n",
       "    .dataframe thead tr th {\n",
       "        text-align: left;\n",
       "    }\n",
       "</style>\n",
       "<table border=\"1\" class=\"dataframe\">\n",
       "  <thead>\n",
       "    <tr>\n",
       "      <th></th>\n",
       "      <th>gender</th>\n",
       "      <th colspan=\"3\" halign=\"left\">age</th>\n",
       "    </tr>\n",
       "    <tr>\n",
       "      <th></th>\n",
       "      <th></th>\n",
       "      <th>mean</th>\n",
       "      <th>std</th>\n",
       "      <th>size</th>\n",
       "    </tr>\n",
       "  </thead>\n",
       "  <tbody>\n",
       "    <tr>\n",
       "      <th>0</th>\n",
       "      <td>female</td>\n",
       "      <td>47.834882</td>\n",
       "      <td>17.396965</td>\n",
       "      <td>1399</td>\n",
       "    </tr>\n",
       "    <tr>\n",
       "      <th>1</th>\n",
       "      <td>male</td>\n",
       "      <td>51.562216</td>\n",
       "      <td>16.381059</td>\n",
       "      <td>1101</td>\n",
       "    </tr>\n",
       "  </tbody>\n",
       "</table>\n",
       "</div>"
      ],
      "text/plain": [
       "   gender        age                 \n",
       "                mean        std  size\n",
       "0  female  47.834882  17.396965  1399\n",
       "1    male  51.562216  16.381059  1101"
      ]
     },
     "execution_count": 2,
     "metadata": {},
     "output_type": "execute_result"
    }
   ],
   "source": [
    "\n",
    "df['age'] = 2018 - df['birthyr']\n",
    "\n",
    "(df.replace({'gender':{1:'male',2:'female'}}).groupby('gender')\n",
    "     .agg({'age':['mean','std','size']})).reset_index()"
   ]
  },
  {
   "cell_type": "markdown",
   "metadata": {},
   "source": [
    "## 3. visualize distribution of an individual variable\n"
   ]
  },
  {
   "cell_type": "code",
   "execution_count": 3,
   "metadata": {},
   "outputs": [
    {
     "data": {
      "application/vnd.jupyter.widget-view+json": {
       "model_id": "46665aa381cf4949b47f81286185c32c",
       "version_major": 2,
       "version_minor": 0
      },
      "text/plain": [
       "interactive(children=(Dropdown(description='x', index=210, options=('acaapprove', 'acaapprove_page_timing', 'a…"
      ]
     },
     "metadata": {},
     "output_type": "display_data"
    }
   ],
   "source": [
    "%matplotlib inline \n",
    "\n",
    "from ipywidgets import interact, interactive, fixed, interact_manual\n",
    "import ipywidgets as widgets\n",
    "from matplotlib import pyplot as plt\n",
    "\n",
    "def cast(s):\n",
    "    try:\n",
    "        return float(s)\n",
    "    except:\n",
    "        return None\n",
    "    \n",
    "@interact(x=df.columns.sort_values())\n",
    "def categorical_plot(x='gender', drop_non_responders=False):\n",
    "    \n",
    "    plt.figure(figsize=(10,5))\n",
    "    ax=plt.gca()\n",
    "    dff = df.copy()\n",
    "    dff[x] = dff[x].apply(cast)\n",
    "    \n",
    "    if drop_non_responders:\n",
    "        dff = dff[dff[x]!=-7]        \n",
    "        dff = dff[dff[x]<=900]\n",
    "\n",
    "    if dff[x].nunique() > 90:\n",
    "        return dff[x].plot(ax=ax, kind='density')        \n",
    "    else:\n",
    "        return dff.groupby(x).size().plot(ax=ax, kind='bar')\n",
    "\n",
    "pass"
   ]
  },
  {
   "cell_type": "markdown",
   "metadata": {},
   "source": [
    "## 4. visualize relationship between two variables "
   ]
  },
  {
   "cell_type": "code",
   "execution_count": 4,
   "metadata": {},
   "outputs": [
    {
     "data": {
      "application/vnd.jupyter.widget-view+json": {
       "model_id": "c101251977464237ad8808a3cf5fd722",
       "version_major": 2,
       "version_minor": 0
      },
      "text/plain": [
       "interactive(children=(Dropdown(description='dependent', index=196, options=('acaapprove', 'acaapprove_page_tim…"
      ]
     },
     "metadata": {},
     "output_type": "display_data"
    }
   ],
   "source": [
    "%matplotlib inline \n",
    "\n",
    "from ipywidgets import interact, interactive, fixed, interact_manual\n",
    "import ipywidgets as widgets\n",
    "import statsmodels.api as sm\n",
    "from matplotlib import pyplot as plt\n",
    "import numpy as np\n",
    "\n",
    "def cast(s):\n",
    "    try:\n",
    "        return float(s)\n",
    "    except:\n",
    "        return None\n",
    "\n",
    "\n",
    "    \n",
    "@interact(dependent=df.columns.sort_values(), independent=df.columns.sort_values())\n",
    "def comparison_plot(dependent='fttrump', independent='impeach1', \n",
    "                    bins=widgets.IntSlider(min=10,max=100,step=5,value=10),\n",
    "                   drop_non_responders=False, easy_plot=False):\n",
    "    \n",
    "    plt.figure(figsize=(10,5))\n",
    "    ax = plt.gca()\n",
    "    \n",
    "    msg = \"nrows: {}; nrows after:{}\".format(str(len(df[dependent])),  str(len(df[dependent].dropna())))\n",
    "    logging.warning(msg)\n",
    "\n",
    "    dff = df.copy()\n",
    "    dff = dff.dropna(subset=[dependent, independent])\n",
    "    dff[dependent] = dff[dependent].apply(cast)\n",
    "    dff[independent] = dff[independent].apply(cast)\n",
    "    \n",
    "    if drop_non_responders:\n",
    "        \n",
    "        dff = dff[dff[dependent]!=-7]\n",
    "        dff = dff[dff[independent]!=-7]\n",
    "        \n",
    "        dff = dff[dff[dependent]<=900]\n",
    "        dff = dff[dff[independent]<=900]\n",
    "        \n",
    "    \n",
    "    if len(dff[independent].unique()) > 15:\n",
    "        plt.scatter(dff[independent], dff[dependent])\n",
    "        return ax\n",
    "    \n",
    "    n_cols = dff[independent].nunique()\n",
    "    if n_cols > 5:\n",
    "        ax.set_prop_cycle('color',[plt.cm.tab20(i) for i in np.linspace(0, 1, n_cols)])            \n",
    "    else:\n",
    "        ax.set_prop_cycle('color',[plt.cm.jet(i) for i in np.linspace(0, 1, n_cols)])            \n",
    "    \n",
    "    try:\n",
    "        \n",
    "        if dff[dependent].mean() < 900:\n",
    "            dff = dff[dff[dependent]<900]\n",
    "    \n",
    "        if easy_plot:\n",
    "            dff.groupby(independent)[dependent].plot(ax=ax, kind='density', alpha=1,linewidth=3)\n",
    "        else:\n",
    "            dff.groupby(independent)[dependent].plot(ax=ax, kind='hist', alpha=.4, bins=bins)\n",
    "        \n",
    "    except Exception as e:\n",
    "        logging.warn(e)\n",
    "\n",
    "        \n",
    "        if easy_plot:\n",
    "            dff.groupby(independent)[dependent].plot(ax=ax, kind='density', alpha=1, linewidth=3)\n",
    "        else:\n",
    "            dff.groupby(independent)[dependent].plot(ax=ax, kind='hist', alpha=.4, bins=bins)\n",
    "        \n",
    "    ax.legend()\n",
    "    return ax\n",
    "pass"
   ]
  },
  {
   "cell_type": "markdown",
   "metadata": {},
   "source": [
    "## 5. statistically analyze relationship between two *continuous variables* "
   ]
  },
  {
   "cell_type": "code",
   "execution_count": 5,
   "metadata": {},
   "outputs": [
    {
     "data": {
      "application/vnd.jupyter.widget-view+json": {
       "model_id": "9f75540250a44dab97ae11dc0321c871",
       "version_major": 2,
       "version_minor": 0
      },
      "text/plain": [
       "interactive(children=(Dropdown(description='dependent', index=196, options=('acaapprove', 'acaapprove_page_tim…"
      ]
     },
     "metadata": {},
     "output_type": "display_data"
    }
   ],
   "source": [
    "import pandas as pd\n",
    "import statsmodels.api as sm\n",
    "from statsmodels.formula.api import ols\n",
    "\n",
    "\n",
    "def cast(s):\n",
    "    try:\n",
    "        return int(s)\n",
    "    except:\n",
    "        return None\n",
    "\n",
    "@interact(dependent=df.columns.sort_values(), independent=df.columns.sort_values())\n",
    "def continuous_comparison_test(dependent='fttrump', independent='impeach1', \n",
    "                    bins=widgets.IntSlider(min=10,max=100,step=5,value=10),\n",
    "                   drop_non_responders=False):\n",
    "    \n",
    "    msg = \"nrows: {}; nrows after:{}\".format(str(len(df[dependent])),  str(len(df[dependent].dropna())))\n",
    "    logging.warning(msg)\n",
    "\n",
    "    dff = df.copy()\n",
    "    dff = dff.dropna(subset=[dependent, independent])\n",
    "    \n",
    "    dff[dependent] = dff[dependent].apply(cast)\n",
    "    dff[independent] = dff[independent].apply(cast)\n",
    "    \n",
    "    if drop_non_responders:\n",
    "        logging.warning('dropping na')\n",
    "        dff = dff[dff[dependent]!=-7]\n",
    "        dff = dff[dff[independent]!=-7]\n",
    "        \n",
    "        dff = dff[dff[dependent]<=900]\n",
    "        dff = dff[dff[independent]<=900]\n",
    "        logging.warning(len(dff[dff[dependent]==-7]))\n",
    "    try:\n",
    "        \n",
    "        if dff[dependent].mean() <900:\n",
    "            dff = dff[dff[dependent]<900]\n",
    "            \n",
    "        results = sm.OLS(dff[dependent], dff[independent], hasconst=False).fit()\n",
    "        results = ols('{} ~ {}'.format(dependent, independent), data=dff).fit()\n",
    "        \n",
    "        sig={True : 'significant', False:'insignificant'}\n",
    "        sign={True : 'positive', False:'negative'}\n",
    "        \n",
    "        t_val = results.tvalues[independent]\n",
    "        p_val = results.pvalues[independent]\n",
    "        \n",
    "        if p_val<0.05:\n",
    "            explain={True: \" People who respond more highly to `{}` also respond more highly to `{}`.\".format(independent, dependent), \n",
    "                    False: \" People who respond more highly to `{}` tend to respond less highly to `{}`.\".format(independent, dependent)}\n",
    "        else:\n",
    "            explain={True:'', False:''}\n",
    "        \n",
    "        result = \"\"\"The there is a {} {} relationship between `{}` and `{}` (t={}, p={}).{}\n",
    "\"\"\".format( \n",
    "                                                 sig[p_val<0.05],\n",
    "                                                 sign[t_val>=0],independent, dependent,\n",
    "                                                 round(t_val,2),\n",
    "                                                 round(p_val,15), explain[t_val>=0])\n",
    "        print(result)\n",
    "        #return pd.crosstab(dff[independent], dff[dependent])\n",
    "    \n",
    "    except Exception as e:\n",
    "        logging.error(e)\n"
   ]
  },
  {
   "cell_type": "markdown",
   "metadata": {},
   "source": [
    "## 6. statistically analyze relationship between a continuous dependent variable and a categorical dependent variable."
   ]
  },
  {
   "cell_type": "code",
   "execution_count": 16,
   "metadata": {},
   "outputs": [
    {
     "data": {
      "application/vnd.jupyter.widget-view+json": {
       "model_id": "d0b68c04fd4c4bd8965b59a7539204e0",
       "version_major": 2,
       "version_minor": 0
      },
      "text/plain": [
       "interactive(children=(Dropdown(description='dependent', index=196, options=('acaapprove', 'acaapprove_page_tim…"
      ]
     },
     "metadata": {},
     "output_type": "display_data"
    }
   ],
   "source": [
    "import pandas as pd\n",
    "import statsmodels.api as sm\n",
    "from statsmodels.formula.api import ols\n",
    "\n",
    "def cast(s):\n",
    "    try:\n",
    "        return int(s)\n",
    "    except:\n",
    "        return None\n",
    "\n",
    "@interact(dependent=df.columns.sort_values(), independent=df.columns.sort_values())\n",
    "def continuous_comparison_test(dependent='fttrump', independent='impeach1', \n",
    "                    bins=widgets.IntSlider(min=10,max=100,step=5,value=10),\n",
    "                   drop_non_responders=False):\n",
    "    \n",
    "    msg = \"nrows: {}; nrows after:{}\".format(str(len(df[dependent])),  str(len(df[dependent].dropna())))\n",
    "    logging.warning(msg)\n",
    "\n",
    "    dff = df.copy()\n",
    "    dff = dff.dropna(subset=[dependent, independent])\n",
    "    \n",
    "    dff[dependent] = dff[dependent].apply(cast)\n",
    "    dff[independent] = dff[independent].apply(cast)\n",
    "    \n",
    "    if dff[independent].nunique()>50:\n",
    "        logging.exception(\" Independent variable must be categorical.\")\n",
    "        return \n",
    "    \n",
    "    if drop_non_responders:\n",
    "        logging.warning('dropping na')\n",
    "        dff = dff[dff[dependent]!=-7]\n",
    "        dff = dff[dff[independent]!=-7]\n",
    "        \n",
    "        dff = dff[dff[dependent]<=900]\n",
    "        dff = dff[dff[independent]<=900]\n",
    "        logging.warning(len(dff[dff[dependent]==-7]))\n",
    "    try:\n",
    "        \n",
    "        if dff[dependent].mean() <900:\n",
    "            dff = dff[dff[dependent]<900]\n",
    "\n",
    "        results = sm.OLS(dff[dependent], dff[independent], hasconst=False).fit()\n",
    "        results = ols('{} ~ C({})'.format(dependent, independent), data=dff).fit()\n",
    "\n",
    "        sig={True : 'significant', False:'insignificant'}\n",
    "        sign={True : 'positive', False:'negative'}\n",
    "\n",
    "        F_val = results.fvalue\n",
    "        p_val = results.f_pvalue\n",
    "\n",
    "        if p_val<0.05:\n",
    "            explain={True: \" People who respond more highly to `{}` also respond more highly to `{}`.\".format(independent, dependent), \n",
    "                    False: \" People who respond more highly to `{}` tend to respond less highly to `{}`.\".format(independent, dependent)}\n",
    "        else:\n",
    "            explain={True:'', False:''}\n",
    "\n",
    "\n",
    "        result = \"\"\"People who respond differently to `{}` also respond respond differently to `{}` (F={}, p={}).\n",
    "        \"\"\".format(independent, dependent,round(F_val,2),round(p_val,15))\n",
    "        print(result)\n",
    "        #return pd.crosstab(dff[independent], dff[dependent])\n",
    "    \n",
    "    except Exception as e:\n",
    "        logging.error(e)\n"
   ]
  },
  {
   "cell_type": "markdown",
   "metadata": {},
   "source": [
    "## 7. statistically analyze relationship between two *categorical variables* "
   ]
  },
  {
   "cell_type": "code",
   "execution_count": 18,
   "metadata": {},
   "outputs": [
    {
     "data": {
      "application/vnd.jupyter.widget-view+json": {
       "model_id": "11b9ff2e54a74be0910c97b0a6775499",
       "version_major": 2,
       "version_minor": 0
      },
      "text/plain": [
       "interactive(children=(Dropdown(description='dependent', index=210, options=('acaapprove', 'acaapprove_page_tim…"
      ]
     },
     "metadata": {},
     "output_type": "display_data"
    }
   ],
   "source": [
    "import pandas as pd\n",
    "import statsmodels.api as sm\n",
    "from statsmodels.formula.api import ols\n",
    "\n",
    "from scipy.stats import chisquare, chi2_contingency\n",
    "\n",
    "def cast(s):\n",
    "    try:\n",
    "        return int(s)\n",
    "    except:\n",
    "        return None\n",
    "\n",
    "@interact(dependent=df.columns.sort_values(), independent=df.columns.sort_values())\n",
    "def categorical_comparison_test(dependent='gender', independent='direct2', \n",
    "                    bins=widgets.IntSlider(min=10,max=100,step=5,value=10),\n",
    "                   drop_non_responders=False):\n",
    "    \n",
    "    msg = \"nrows: {}; nrows after:{}\".format(str(len(df[dependent])),  str(len(df[dependent].dropna())))\n",
    "    logging.warning(msg)\n",
    "\n",
    "    dff = df.copy()\n",
    "    dff = dff.dropna(subset=[dependent, independent])\n",
    "    \n",
    "    dff[dependent] = dff[dependent].apply(cast)\n",
    "    dff[independent] = dff[independent].apply(cast)\n",
    "    \n",
    "    if drop_non_responders:\n",
    "        logging.warning('dropping na')\n",
    "        dff = dff[dff[dependent]!=-7]\n",
    "        dff = dff[dff[independent]!=-7]\n",
    "        \n",
    "        dff = dff[dff[dependent]<=900]\n",
    "        dff = dff[dff[independent]<=900]\n",
    "        logging.warning(len(dff[dff[dependent]==-7]))\n",
    "    try:\n",
    "        \n",
    "        if dff[dependent].mean() <900:\n",
    "            dff = dff[dff[dependent]<900]\n",
    "            \n",
    "        ct = pd.crosstab(dff[independent], dff[dependent])\n",
    "\n",
    "        c, p, dof, expected = chi2_contingency(ct)\n",
    "        \n",
    "        sig={True : 'significant', False:'insignificant'}\n",
    "        \n",
    "        result = \"\"\"The proportion of people responding in different ways to `{}` \n",
    "        differs according to `{}` in an {} way (chi={}, p={})\"\"\".format(independent, \n",
    "                                                 dependent, \n",
    "                                                 sig[p<0.05],\n",
    "                                                 round(c,2),\n",
    "                                                 round(p,15))\n",
    "        if dff[independent].nunique()>50 or dff[dependent].nunique()>50:\n",
    "            logging.warning('One of your variables might be continuous.')\n",
    "        \n",
    "        print(result.replace('\\n','').replace('  ',''))\n",
    "\n",
    "    \n",
    "    except Exception as e:\n",
    "        logging.error(e)\n"
   ]
  },
  {
   "cell_type": "code",
   "execution_count": null,
   "metadata": {},
   "outputs": [],
   "source": []
  }
 ],
 "metadata": {
  "kernelspec": {
   "display_name": "Python 3",
   "language": "python",
   "name": "python3"
  },
  "language_info": {
   "codemirror_mode": {
    "name": "ipython",
    "version": 3
   },
   "file_extension": ".py",
   "mimetype": "text/x-python",
   "name": "python",
   "nbconvert_exporter": "python",
   "pygments_lexer": "ipython3",
   "version": "3.7.2"
  }
 },
 "nbformat": 4,
 "nbformat_minor": 2
}
