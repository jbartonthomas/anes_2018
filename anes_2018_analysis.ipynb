{
 "cells": [
  {
   "cell_type": "markdown",
   "metadata": {},
   "source": [
    "# Welcome to your Quantitative Social Sciences Analysis Toolkit!\n",
    "\n",
    "Use this notebook to perform the following operations:\n",
    "    - load data\n",
    "    - make histograms of variables of interest\n",
    "    - calculate group differences on variables of interest\n",
    "    - calculate correlations between variables of interest"
   ]
  },
  {
   "cell_type": "markdown",
   "metadata": {},
   "source": [
    "## 1. load survey data into the notebook \n",
    "(run this first & run this everytime you close and reopen the notebook)"
   ]
  },
  {
   "cell_type": "code",
   "execution_count": 130,
   "metadata": {},
   "outputs": [],
   "source": [
    "import pandas as pd\n",
    "import logging\n",
    "import statsmodels.api as sm\n",
    "\n",
    "df = pd.read_csv('data/anes_pilot_2018.csv', low_memory=False)\n",
    "\n",
    "pc = sm.PCA(df[['ftasian', 'ftblack', 'fthisp', 'ftmuslim']])\n",
    "df['race_positive'] = pc.scores['comp_0']"
   ]
  },
  {
   "cell_type": "markdown",
   "metadata": {},
   "source": [
    "## 2. generate demographics table\n"
   ]
  },
  {
   "cell_type": "code",
   "execution_count": 127,
   "metadata": {},
   "outputs": [
    {
     "data": {
      "text/html": [
       "<div>\n",
       "<style scoped>\n",
       "    .dataframe tbody tr th:only-of-type {\n",
       "        vertical-align: middle;\n",
       "    }\n",
       "\n",
       "    .dataframe tbody tr th {\n",
       "        vertical-align: top;\n",
       "    }\n",
       "\n",
       "    .dataframe thead tr th {\n",
       "        text-align: left;\n",
       "    }\n",
       "</style>\n",
       "<table border=\"1\" class=\"dataframe\">\n",
       "  <thead>\n",
       "    <tr>\n",
       "      <th></th>\n",
       "      <th>gender</th>\n",
       "      <th colspan=\"3\" halign=\"left\">age</th>\n",
       "    </tr>\n",
       "    <tr>\n",
       "      <th></th>\n",
       "      <th></th>\n",
       "      <th>mean</th>\n",
       "      <th>std</th>\n",
       "      <th>size</th>\n",
       "    </tr>\n",
       "  </thead>\n",
       "  <tbody>\n",
       "    <tr>\n",
       "      <th>0</th>\n",
       "      <td>female</td>\n",
       "      <td>47.834882</td>\n",
       "      <td>17.396965</td>\n",
       "      <td>1399</td>\n",
       "    </tr>\n",
       "    <tr>\n",
       "      <th>1</th>\n",
       "      <td>male</td>\n",
       "      <td>51.562216</td>\n",
       "      <td>16.381059</td>\n",
       "      <td>1101</td>\n",
       "    </tr>\n",
       "  </tbody>\n",
       "</table>\n",
       "</div>"
      ],
      "text/plain": [
       "   gender        age                 \n",
       "                mean        std  size\n",
       "0  female  47.834882  17.396965  1399\n",
       "1    male  51.562216  16.381059  1101"
      ]
     },
     "execution_count": 127,
     "metadata": {},
     "output_type": "execute_result"
    }
   ],
   "source": [
    "\n",
    "df['age'] = 2018 - df['birthyr']\n",
    "\n",
    "(df.groupby('gender').replace({'gender':{1:'male',2:'female'}}\n",
    "     .agg({'age':['mean','std','size']})).reset_index()"
   ]
  },
  {
   "cell_type": "markdown",
   "metadata": {},
   "source": [
    "## 3. visualize distribution of an individual variable\n"
   ]
  },
  {
   "cell_type": "code",
   "execution_count": 128,
   "metadata": {},
   "outputs": [
    {
     "data": {
      "application/vnd.jupyter.widget-view+json": {
       "model_id": "864938457f3744e68a59fd71beb30546",
       "version_major": 2,
       "version_minor": 0
      },
      "text/plain": [
       "interactive(children=(Dropdown(description='x', index=284, options=('version', 'caseid', 'weight', 'weight_sps…"
      ]
     },
     "metadata": {},
     "output_type": "display_data"
    }
   ],
   "source": [
    "%matplotlib inline \n",
    "\n",
    "from ipywidgets import interact, interactive, fixed, interact_manual\n",
    "import ipywidgets as widgets\n",
    "from matplotlib import pyplot as plt\n",
    "\n",
    "@interact(x=df.columns)\n",
    "def categorical_plot(x='gender'):\n",
    "    plt.figure(figsize=(10,5))\n",
    "    ax=plt.gca()\n",
    "    return df.groupby(x).size().plot(ax=ax, kind='bar')\n",
    "\n",
    "pass"
   ]
  },
  {
   "cell_type": "markdown",
   "metadata": {},
   "source": [
    "## 4. visualize relationship between two variables "
   ]
  },
  {
   "cell_type": "code",
   "execution_count": 155,
   "metadata": {},
   "outputs": [
    {
     "data": {
      "application/vnd.jupyter.widget-view+json": {
       "model_id": "278d9c9f1e9147729dc915610e8588e7",
       "version_major": 2,
       "version_minor": 0
      },
      "text/plain": [
       "interactive(children=(Dropdown(description='dependent', index=195, options=('acaapprove', 'acaapprove_page_tim…"
      ]
     },
     "metadata": {},
     "output_type": "display_data"
    }
   ],
   "source": [
    "%matplotlib inline \n",
    "\n",
    "from ipywidgets import interact, interactive, fixed, interact_manual\n",
    "import ipywidgets as widgets\n",
    "import statsmodels.api as sm\n",
    "from matplotlib import pyplot as plt\n",
    "\n",
    "def cast(s):\n",
    "    try:\n",
    "        return float(s)\n",
    "    except:\n",
    "        return None\n",
    "\n",
    "\n",
    "    \n",
    "@interact(dependent=df.columns.sort_values(), independent=df.columns.sort_values())\n",
    "def comparison_plot(dependent='fttrump', independent='impeach1', bins=list(range(10,100,5))):\n",
    "    plt.figure(figsize=(10,5))\n",
    "    ax = plt.gca()\n",
    "    \n",
    "    msg = \"nrows: {}; nrows after:{}\".format(str(len(df[dependent])),  str(len(df[dependent].dropna())))\n",
    "    logging.warning(msg)\n",
    "\n",
    "    dff = df.copy()\n",
    "    dff = dff.dropna(subset=[dependent, independent])\n",
    "    dff[dependent] = dff[dependent].apply(cast)\n",
    "    dff[independent] = dff[independent].apply(cast)\n",
    "    \n",
    "    if len(dff[independent].unique()) > 15:\n",
    "        plt.scatter(dff[independent], dff[dependent])\n",
    "        return ax\n",
    "    \n",
    "    try:\n",
    "\n",
    "        if dff[dependent].mean() < 900:\n",
    "            dff = dff[dff[dependent]<900]\n",
    "        dff.groupby(independent)[dependent].plot(ax=ax, kind='hist', alpha=.4, bins=bins)\n",
    "        \n",
    "    except Exception as e:\n",
    "        logging.warn(e)\n",
    "        dff.groupby(independent)[dependent].plot(ax=ax, kind='hist', alpha=.4, bins=bins)\n",
    "        \n",
    "    ax.legend()\n",
    "    return ax\n"
   ]
  },
  {
   "cell_type": "code",
   "execution_count": 157,
   "metadata": {},
   "outputs": [],
   "source": [
    "## 5. statistically analyze relationship between two variables "
   ]
  },
  {
   "cell_type": "code",
   "execution_count": 65,
   "metadata": {},
   "outputs": [
    {
     "data": {
      "application/vnd.jupyter.widget-view+json": {
       "model_id": "e188cb34142747969818b0feff86d3fe",
       "version_major": 2,
       "version_minor": 0
      },
      "text/plain": [
       "interactive(children=(Dropdown(description='dependent', index=20, options=('acaapprove', 'acaapprove_page_timi…"
      ]
     },
     "metadata": {},
     "output_type": "display_data"
    }
   ],
   "source": [
    "import pandas as pd\n",
    "import statsmodels.api as sm\n",
    "from statsmodels.formula.api import ols\n",
    "\n",
    "\n",
    "def cast(s):\n",
    "    try:\n",
    "        return int(s)\n",
    "    except:\n",
    "        return None\n",
    "\n",
    "\n",
    "@interact(dependent=df.columns.sort_values(), independent=df.columns.sort_values())\n",
    "def comparison_test(dependent='birthyr', independent='gender'):\n",
    "    \n",
    "    \n",
    "    msg = \"nrows: {}; nrows after:{}\".format(str(len(df[dependent])),  str(len(df[dependent].dropna())))\n",
    "    logging.warning(msg)\n",
    "\n",
    "    dff = df.copy()\n",
    "    dff = dff.dropna(subset=[dependent, independent])\n",
    "    \n",
    "    try:\n",
    "        dff[dependent] = dff[dependent].apply(cast)\n",
    "        dff[independent] = dff[independent].apply(cast)\n",
    "        \n",
    "        if dff[dependent].mean() <900:\n",
    "            dff = dff[dff[dependent]<900]\n",
    "            \n",
    "        results = sm.OLS(dff[dependent], dff[independent], hasconst=False).fit()\n",
    "        \n",
    "        if len(dff[independent].unique()) < 10 or 'ord_' in independent:\n",
    "\n",
    "            results = ols('{} ~ C({})'.format(dependent, independent), data=dff).fit()\n",
    "        else:\n",
    "            results = ols('{} ~ {}'.format(dependent, independent), data=dff).fit()\n",
    "        \n",
    "        print(results.summary())\n",
    "        return pd.crosstab(df[independent], df[dependent])\n",
    "    \n",
    "    except Exception as e:\n",
    "        logging.error(e)\n"
   ]
  }
 ],
 "metadata": {
  "kernelspec": {
   "display_name": "Python 3",
   "language": "python",
   "name": "python3"
  },
  "language_info": {
   "codemirror_mode": {
    "name": "ipython",
    "version": 3
   },
   "file_extension": ".py",
   "mimetype": "text/x-python",
   "name": "python",
   "nbconvert_exporter": "python",
   "pygments_lexer": "ipython3",
   "version": "3.7.2"
  }
 },
 "nbformat": 4,
 "nbformat_minor": 2
}
