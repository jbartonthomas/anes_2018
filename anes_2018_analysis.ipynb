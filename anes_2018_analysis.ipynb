{
 "cells": [
  {
   "cell_type": "markdown",
   "metadata": {},
   "source": [
    "# Welcome to your Quantitative Social Sciences analysis toolkit!\n",
    "\n",
    "In this notebook, you will perform the following operations:\n",
    "    - load data\n",
    "    - make histograms of variables of interest\n",
    "    - calculate correlations between variables of interest\n",
    "    - calculate group differences on variables of interest"
   ]
  },
  {
   "cell_type": "code",
   "execution_count": 1,
   "metadata": {},
   "outputs": [],
   "source": [
    "import pandas as pd\n",
    "\n",
    "df = pd.read_csv('data/anes_pilot_2018.csv', low_memory=False)"
   ]
  },
  {
   "cell_type": "code",
   "execution_count": 97,
   "metadata": {},
   "outputs": [
    {
     "data": {
      "application/vnd.jupyter.widget-view+json": {
       "model_id": "10aad5cd5537408e9b18f58975ba085e",
       "version_major": 2,
       "version_minor": 0
      },
      "text/plain": [
       "interactive(children=(Dropdown(description='x', index=284, options=('version', 'caseid', 'weight', 'weight_sps…"
      ]
     },
     "metadata": {},
     "output_type": "display_data"
    }
   ],
   "source": [
    "%matplotlib inline \n",
    "\n",
    "from ipywidgets import interact, interactive, fixed, interact_manual\n",
    "import ipywidgets as widgets\n",
    "from matplotlib import pyplot as plt\n",
    "\n",
    "@interact(x=df.columns)\n",
    "def categorical_plot(x='gender'):\n",
    "    plt.figure(figsize=(10,5))\n",
    "    ax=plt.gca()\n",
    "    return df.groupby(x).size().plot(ax=ax, kind='bar')\n",
    "\n",
    "pass"
   ]
  },
  {
   "cell_type": "code",
   "execution_count": 32,
   "metadata": {},
   "outputs": [
    {
     "data": {
      "application/vnd.jupyter.widget-view+json": {
       "model_id": "0d3a8b55001d4be795595aae31d8f0a7",
       "version_major": 2,
       "version_minor": 0
      },
      "text/plain": [
       "interactive(children=(Dropdown(description='dependent', index=428, options=('acaapprove', 'acaapprove_page_tim…"
      ]
     },
     "metadata": {},
     "output_type": "display_data"
    }
   ],
   "source": [
    "%matplotlib inline \n",
    "\n",
    "from ipywidgets import interact, interactive, fixed, interact_manual\n",
    "import ipywidgets as widgets\n",
    "\n",
    "def cast(s):\n",
    "    try:\n",
    "        return float(s)\n",
    "    except:\n",
    "        return None\n",
    "\n",
    "@interact(dependent=df.columns.sort_values(), independent=df.columns.sort_values())\n",
    "def comparison_plot(dependent='ord_ftmetoo', independent='gender', bins=list(range(10,100,5))):\n",
    "    plt.figure(figsize=(10,5))\n",
    "    ax = plt.gca()\n",
    "    \n",
    "    print(len(df[dependent]), len(df[dependent].dropna()))\n",
    "\n",
    "    dff = df.copy()\n",
    "    dff = dff.dropna(subset=[dependent, independent])\n",
    "    \n",
    "    if len(dff[independent].unique()) > 15:\n",
    "        plt.scatter(dff[independent], dff[dependent])\n",
    "        return ax\n",
    "    \n",
    "    try:\n",
    "        dff[dependent] = dff[dependent].apply(cast)\n",
    "        if dff[dependent].mean() < 900:\n",
    "            dff = dff[dff[dependent]<900]\n",
    "        dff.groupby(independent)[dependent].plot(ax=ax, kind='hist', alpha=.33, bins=bins)\n",
    "    except:\n",
    "        dff.groupby(independent)[dependent].plot(ax=ax, kind='hist', alpha=.33, bins=bins)\n",
    "        \n",
    "    ax.legend()\n",
    "    return ax\n"
   ]
  },
  {
   "cell_type": "code",
   "execution_count": 45,
   "metadata": {},
   "outputs": [
    {
     "data": {
      "application/vnd.jupyter.widget-view+json": {
       "model_id": "b970d8f117404af6843892871a6a114f",
       "version_major": 2,
       "version_minor": 0
      },
      "text/plain": [
       "interactive(children=(Dropdown(description='dependent', index=195, options=('acaapprove', 'acaapprove_page_tim…"
      ]
     },
     "metadata": {},
     "output_type": "display_data"
    }
   ],
   "source": [
    "import statsmodels.api as sm\n",
    "\n",
    "from statsmodels.formula.api import ols\n",
    "\n",
    "\n",
    "def cast(s):\n",
    "    try:\n",
    "        return int(s)\n",
    "    except:\n",
    "        return None\n",
    "\n",
    "\n",
    "@interact(dependent=df.columns.sort_values(), independent=df.columns.sort_values())\n",
    "def comparison_plot(dependent='fttrump', independent='gender'):\n",
    "    \n",
    "    print(len(df[dependent]), len(df[dependent].dropna()))\n",
    "\n",
    "    dff = df.copy()\n",
    "    dff = dff.dropna(subset=[dependent, independent])\n",
    "    \n",
    "    try:\n",
    "        dff[dependent] = dff[dependent].apply(cast)\n",
    "        dff[independent] = dff[independent].apply(cast)\n",
    "        \n",
    "        if dff[dependent].mean() <900:\n",
    "            dff = dff[dff[dependent]<900]\n",
    "            \n",
    "        results = sm.OLS(dff[dependent], dff[independent], hasconst=False).fit()\n",
    "        \n",
    "        if len(dff[independent].unique()) < 10:\n",
    "            results = ols('{} ~ C({})'.format(dependent, independent), data=dff).fit()\n",
    "        else:\n",
    "            results = ols('{} ~ {}'.format(dependent, independent), data=dff).fit()\n",
    "        \n",
    "        print(results.summary())\n",
    "        #return pd.crosstab(df[independent], df[dependent])\n",
    "    \n",
    "    except Exception as e:\n",
    "        return str(e)\n"
   ]
  },
  {
   "cell_type": "code",
   "execution_count": 37,
   "metadata": {},
   "outputs": [
    {
     "name": "stdout",
     "output_type": "stream",
     "text": [
      "> \u001b[0;32m<ipython-input-36-57ad18846727>\u001b[0m(39)\u001b[0;36mcomparison_plot\u001b[0;34m()\u001b[0m\n",
      "\u001b[0;32m     35 \u001b[0;31m        \u001b[0mprint\u001b[0m\u001b[0;34m(\u001b[0m\u001b[0mresults\u001b[0m\u001b[0;34m.\u001b[0m\u001b[0msummary\u001b[0m\u001b[0;34m(\u001b[0m\u001b[0;34m)\u001b[0m\u001b[0;34m)\u001b[0m\u001b[0;34m\u001b[0m\u001b[0;34m\u001b[0m\u001b[0m\n",
      "\u001b[0m\u001b[0;32m     36 \u001b[0;31m        \u001b[0;32mreturn\u001b[0m \u001b[0mpd\u001b[0m\u001b[0;34m.\u001b[0m\u001b[0mcrosstab\u001b[0m\u001b[0;34m(\u001b[0m\u001b[0mdf\u001b[0m\u001b[0;34m[\u001b[0m\u001b[0mindependent\u001b[0m\u001b[0;34m]\u001b[0m\u001b[0;34m,\u001b[0m \u001b[0mdf\u001b[0m\u001b[0;34m[\u001b[0m\u001b[0mdependent\u001b[0m\u001b[0;34m]\u001b[0m\u001b[0;34m)\u001b[0m\u001b[0;34m\u001b[0m\u001b[0;34m\u001b[0m\u001b[0m\n",
      "\u001b[0m\u001b[0;32m     37 \u001b[0;31m\u001b[0;34m\u001b[0m\u001b[0m\n",
      "\u001b[0m\u001b[0;32m     38 \u001b[0;31m    \u001b[0;32mexcept\u001b[0m \u001b[0mException\u001b[0m \u001b[0;32mas\u001b[0m \u001b[0me\u001b[0m\u001b[0;34m:\u001b[0m\u001b[0;34m\u001b[0m\u001b[0;34m\u001b[0m\u001b[0m\n",
      "\u001b[0m\u001b[0;32m---> 39 \u001b[0;31m        \u001b[0;32mreturn\u001b[0m \u001b[0;34m'comparison does not run'\u001b[0m \u001b[0;34m+\u001b[0m \u001b[0me\u001b[0m\u001b[0;34m.\u001b[0m\u001b[0mmessage\u001b[0m\u001b[0;34m\u001b[0m\u001b[0;34m\u001b[0m\u001b[0m\n",
      "\u001b[0m\n",
      "ipdb> u\n",
      "*** Oldest frame\n",
      "ipdb> e\n",
      "*** NameError: name 'e' is not defined\n",
      "ipdb> d\n",
      "*** Newest frame\n",
      "ipdb> e\n",
      "*** NameError: name 'e' is not defined\n",
      "ipdb> d\n",
      "*** Newest frame\n",
      "ipdb> d\n",
      "*** Newest frame\n",
      "ipdb> e\n",
      "*** NameError: name 'e' is not defined\n",
      "ipdb> dir()\n",
      "['dependent', 'dff', 'independent', 'results']\n",
      "ipdb> dependent\n",
      "'fttrump'\n",
      "ipdb> indpendent\n",
      "*** NameError: name 'indpendent' is not defined\n",
      "ipdb> results\n",
      "<statsmodels.regression.linear_model.RegressionResultsWrapper object at 0x1c20259668>\n",
      "ipdb> dir(results)\n",
      "['HC0_se', 'HC1_se', 'HC2_se', 'HC3_se', '_HCCM', '__class__', '__delattr__', '__dict__', '__dir__', '__doc__', '__eq__', '__format__', '__ge__', '__getattribute__', '__gt__', '__hash__', '__init__', '__init_subclass__', '__le__', '__lt__', '__module__', '__ne__', '__new__', '__reduce__', '__reduce_ex__', '__repr__', '__setattr__', '__sizeof__', '__str__', '__subclasshook__', '__weakref__', '_cache', '_data_attr', '_get_robustcov_results', '_is_nested', '_wexog_singular_values', 'aic', 'bic', 'bse', 'centered_tss', 'compare_f_test', 'compare_lm_test', 'compare_lr_test', 'condition_number', 'conf_int', 'conf_int_el', 'cov_HC0', 'cov_HC1', 'cov_HC2', 'cov_HC3', 'cov_kwds', 'cov_params', 'cov_type', 'df_model', 'df_resid', 'diagn', 'eigenvals', 'el_test', 'ess', 'f_pvalue', 'f_test', 'fittedvalues', 'fvalue', 'get_influence', 'get_prediction', 'get_robustcov_results', 'initialize', 'k_constant', 'llf', 'load', 'model', 'mse_model', 'mse_resid', 'mse_total', 'nobs', 'normalized_cov_params', 'outlier_test', 'params', 'predict', 'pvalues', 'remove_data', 'resid', 'resid_pearson', 'rsquared', 'rsquared_adj', 'save', 'scale', 'ssr', 'summary', 'summary2', 't_test', 't_test_pairwise', 'tvalues', 'uncentered_tss', 'use_t', 'wald_test', 'wald_test_terms', 'wresid']\n",
      "ipdb> c\n"
     ]
    }
   ],
   "source": [
    "%debug"
   ]
  },
  {
   "cell_type": "code",
   "execution_count": null,
   "metadata": {},
   "outputs": [],
   "source": []
  }
 ],
 "metadata": {
  "kernelspec": {
   "display_name": "Python 3",
   "language": "python",
   "name": "python3"
  },
  "language_info": {
   "codemirror_mode": {
    "name": "ipython",
    "version": 3
   },
   "file_extension": ".py",
   "mimetype": "text/x-python",
   "name": "python",
   "nbconvert_exporter": "python",
   "pygments_lexer": "ipython3",
   "version": "3.7.2"
  }
 },
 "nbformat": 4,
 "nbformat_minor": 2
}
